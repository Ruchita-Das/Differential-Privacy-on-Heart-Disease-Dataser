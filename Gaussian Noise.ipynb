{
 "cells": [
  {
   "cell_type": "code",
   "execution_count": 1,
   "id": "026f809e",
   "metadata": {},
   "outputs": [],
   "source": [
    "import pandas as pd\n",
    "import numpy as np\n",
    "from matplotlib import pyplot as plt\n",
    "import tensorflow as tf\n"
   ]
  },
  {
   "cell_type": "code",
   "execution_count": 2,
   "id": "d26456c4",
   "metadata": {},
   "outputs": [],
   "source": [
    "data=pd.read_csv(r'C:\\\\Users\\hp\\Documents\\archive\\heart.csv')"
   ]
  },
  {
   "cell_type": "code",
   "execution_count": 3,
   "id": "2c419472",
   "metadata": {},
   "outputs": [
    {
     "name": "stdout",
     "output_type": "stream",
     "text": [
      "1025\n"
     ]
    }
   ],
   "source": [
    "data.head()\n",
    "print(len(data))"
   ]
  },
  {
   "cell_type": "code",
   "execution_count": 4,
   "id": "0f9603d3",
   "metadata": {},
   "outputs": [
    {
     "data": {
      "text/plain": [
       "array([[<AxesSubplot: title={'center': 'age'}>]], dtype=object)"
      ]
     },
     "execution_count": 4,
     "metadata": {},
     "output_type": "execute_result"
    },
    {
     "data": {
      "image/png": "[encoded data removed]",
      "text/plain": [
       "<Figure size 640x480 with 1 Axes>"
      ]
     },
     "metadata": {},
     "output_type": "display_data"
    }
   ],
   "source": [
    "data.hist(column=\"age\")"
   ]
  },
  {
   "cell_type": "markdown",
   "id": "64987dd1",
   "metadata": {},
   "source": [
    "# Creating an input data separately to add  the noise"
   ]
  },
  {
   "cell_type": "code",
   "execution_count": 5,
   "id": "5803a943",
   "metadata": {},
   "outputs": [],
   "source": [
    "new_data=data.loc[:, data.columns!='target']"
   ]
  },
  {
   "cell_type": "code",
   "execution_count": 6,
   "id": "1c3e292d",
   "metadata": {},
   "outputs": [
    {
     "data": {
      "text/html": [
       "<div>\n",
       "<style scoped>\n",
       "    .dataframe tbody tr th:only-of-type {\n",
       "        vertical-align: middle;\n",
       "    }\n",
       "\n",
       "    .dataframe tbody tr th {\n",
       "        vertical-align: top;\n",
       "    }\n",
       "\n",
       "    .dataframe thead th {\n",
       "        text-align: right;\n",
       "    }\n",
       "</style>\n",
       "<table border=\"1\" class=\"dataframe\">\n",
       "  <thead>\n",
       "    <tr style=\"text-align: right;\">\n",
       "      <th></th>\n",
       "      <th>age</th>\n",
       "      <th>sex</th>\n",
       "      <th>cp</th>\n",
       "      <th>trestbps</th>\n",
       "      <th>chol</th>\n",
       "      <th>fbs</th>\n",
       "      <th>restecg</th>\n",
       "      <th>thalach</th>\n",
       "      <th>exang</th>\n",
       "      <th>oldpeak</th>\n",
       "      <th>slope</th>\n",
       "      <th>ca</th>\n",
       "      <th>thal</th>\n",
       "    </tr>\n",
       "  </thead>\n",
       "  <tbody>\n",
       "    <tr>\n",
       "      <th>0</th>\n",
       "      <td>52</td>\n",
       "      <td>1</td>\n",
       "      <td>0</td>\n",
       "      <td>125</td>\n",
       "      <td>212</td>\n",
       "      <td>0</td>\n",
       "      <td>1</td>\n",
       "      <td>168</td>\n",
       "      <td>0</td>\n",
       "      <td>1.0</td>\n",
       "      <td>2</td>\n",
       "      <td>2</td>\n",
       "      <td>3</td>\n",
       "    </tr>\n",
       "    <tr>\n",
       "      <th>1</th>\n",
       "      <td>53</td>\n",
       "      <td>1</td>\n",
       "      <td>0</td>\n",
       "      <td>140</td>\n",
       "      <td>203</td>\n",
       "      <td>1</td>\n",
       "      <td>0</td>\n",
       "      <td>155</td>\n",
       "      <td>1</td>\n",
       "      <td>3.1</td>\n",
       "      <td>0</td>\n",
       "      <td>0</td>\n",
       "      <td>3</td>\n",
       "    </tr>\n",
       "    <tr>\n",
       "      <th>2</th>\n",
       "      <td>70</td>\n",
       "      <td>1</td>\n",
       "      <td>0</td>\n",
       "      <td>145</td>\n",
       "      <td>174</td>\n",
       "      <td>0</td>\n",
       "      <td>1</td>\n",
       "      <td>125</td>\n",
       "      <td>1</td>\n",
       "      <td>2.6</td>\n",
       "      <td>0</td>\n",
       "      <td>0</td>\n",
       "      <td>3</td>\n",
       "    </tr>\n",
       "    <tr>\n",
       "      <th>3</th>\n",
       "      <td>61</td>\n",
       "      <td>1</td>\n",
       "      <td>0</td>\n",
       "      <td>148</td>\n",
       "      <td>203</td>\n",
       "      <td>0</td>\n",
       "      <td>1</td>\n",
       "      <td>161</td>\n",
       "      <td>0</td>\n",
       "      <td>0.0</td>\n",
       "      <td>2</td>\n",
       "      <td>1</td>\n",
       "      <td>3</td>\n",
       "    </tr>\n",
       "    <tr>\n",
       "      <th>4</th>\n",
       "      <td>62</td>\n",
       "      <td>0</td>\n",
       "      <td>0</td>\n",
       "      <td>138</td>\n",
       "      <td>294</td>\n",
       "      <td>1</td>\n",
       "      <td>1</td>\n",
       "      <td>106</td>\n",
       "      <td>0</td>\n",
       "      <td>1.9</td>\n",
       "      <td>1</td>\n",
       "      <td>3</td>\n",
       "      <td>2</td>\n",
       "    </tr>\n",
       "  </tbody>\n",
       "</table>\n",
       "</div>"
      ],
      "text/plain": [
       "   age  sex  cp  trestbps  chol  fbs  restecg  thalach  exang  oldpeak  slope  \\\n",
       "0   52    1   0       125   212    0        1      168      0      1.0      2   \n",
       "1   53    1   0       140   203    1        0      155      1      3.1      0   \n",
       "2   70    1   0       145   174    0        1      125      1      2.6      0   \n",
       "3   61    1   0       148   203    0        1      161      0      0.0      2   \n",
       "4   62    0   0       138   294    1        1      106      0      1.9      1   \n",
       "\n",
       "   ca  thal  \n",
       "0   2     3  \n",
       "1   0     3  \n",
       "2   0     3  \n",
       "3   1     3  \n",
       "4   3     2  "
      ]
     },
     "execution_count": 6,
     "metadata": {},
     "output_type": "execute_result"
    }
   ],
   "source": [
    "new_data.head()\n"
   ]
  },
  {
   "cell_type": "code",
   "execution_count": 7,
   "id": "214dca8c",
   "metadata": {},
   "outputs": [],
   "source": [
    "#generating Gaussian noise parameters\n",
    "mu=5.0\n",
    "sigma = 0.5\n",
    "#generating Gaussian noise\n",
    "Gaussian_noise= np.random.normal(mu, sigma)\n",
    "\n",
    "#we varied mu and sigma and saw how it affected performance of the model"
   ]
  },
  {
   "cell_type": "code",
   "execution_count": 8,
   "id": "8a6ffc23",
   "metadata": {},
   "outputs": [
    {
     "name": "stdout",
     "output_type": "stream",
     "text": [
      "5.49985263894494\n"
     ]
    }
   ],
   "source": [
    "print(Gaussian_noise)"
   ]
  },
  {
   "cell_type": "code",
   "execution_count": 9,
   "id": "b46de73f",
   "metadata": {},
   "outputs": [],
   "source": [
    "#adding noise to  original data\n",
    "new_data= new_data + Gaussian_noise"
   ]
  },
  {
   "cell_type": "code",
   "execution_count": 10,
   "id": "835d39a2",
   "metadata": {},
   "outputs": [
    {
     "data": {
      "text/html": [
       "<div>\n",
       "<style scoped>\n",
       "    .dataframe tbody tr th:only-of-type {\n",
       "        vertical-align: middle;\n",
       "    }\n",
       "\n",
       "    .dataframe tbody tr th {\n",
       "        vertical-align: top;\n",
       "    }\n",
       "\n",
       "    .dataframe thead th {\n",
       "        text-align: right;\n",
       "    }\n",
       "</style>\n",
       "<table border=\"1\" class=\"dataframe\">\n",
       "  <thead>\n",
       "    <tr style=\"text-align: right;\">\n",
       "      <th></th>\n",
       "      <th>age</th>\n",
       "      <th>sex</th>\n",
       "      <th>cp</th>\n",
       "      <th>trestbps</th>\n",
       "      <th>chol</th>\n",
       "      <th>fbs</th>\n",
       "      <th>restecg</th>\n",
       "      <th>thalach</th>\n",
       "      <th>exang</th>\n",
       "      <th>oldpeak</th>\n",
       "      <th>slope</th>\n",
       "      <th>ca</th>\n",
       "      <th>thal</th>\n",
       "    </tr>\n",
       "  </thead>\n",
       "  <tbody>\n",
       "    <tr>\n",
       "      <th>0</th>\n",
       "      <td>57.499853</td>\n",
       "      <td>6.499853</td>\n",
       "      <td>5.499853</td>\n",
       "      <td>130.499853</td>\n",
       "      <td>217.499853</td>\n",
       "      <td>5.499853</td>\n",
       "      <td>6.499853</td>\n",
       "      <td>173.499853</td>\n",
       "      <td>5.499853</td>\n",
       "      <td>6.499853</td>\n",
       "      <td>7.499853</td>\n",
       "      <td>7.499853</td>\n",
       "      <td>8.499853</td>\n",
       "    </tr>\n",
       "    <tr>\n",
       "      <th>1</th>\n",
       "      <td>58.499853</td>\n",
       "      <td>6.499853</td>\n",
       "      <td>5.499853</td>\n",
       "      <td>145.499853</td>\n",
       "      <td>208.499853</td>\n",
       "      <td>6.499853</td>\n",
       "      <td>5.499853</td>\n",
       "      <td>160.499853</td>\n",
       "      <td>6.499853</td>\n",
       "      <td>8.599853</td>\n",
       "      <td>5.499853</td>\n",
       "      <td>5.499853</td>\n",
       "      <td>8.499853</td>\n",
       "    </tr>\n",
       "    <tr>\n",
       "      <th>2</th>\n",
       "      <td>75.499853</td>\n",
       "      <td>6.499853</td>\n",
       "      <td>5.499853</td>\n",
       "      <td>150.499853</td>\n",
       "      <td>179.499853</td>\n",
       "      <td>5.499853</td>\n",
       "      <td>6.499853</td>\n",
       "      <td>130.499853</td>\n",
       "      <td>6.499853</td>\n",
       "      <td>8.099853</td>\n",
       "      <td>5.499853</td>\n",
       "      <td>5.499853</td>\n",
       "      <td>8.499853</td>\n",
       "    </tr>\n",
       "    <tr>\n",
       "      <th>3</th>\n",
       "      <td>66.499853</td>\n",
       "      <td>6.499853</td>\n",
       "      <td>5.499853</td>\n",
       "      <td>153.499853</td>\n",
       "      <td>208.499853</td>\n",
       "      <td>5.499853</td>\n",
       "      <td>6.499853</td>\n",
       "      <td>166.499853</td>\n",
       "      <td>5.499853</td>\n",
       "      <td>5.499853</td>\n",
       "      <td>7.499853</td>\n",
       "      <td>6.499853</td>\n",
       "      <td>8.499853</td>\n",
       "    </tr>\n",
       "    <tr>\n",
       "      <th>4</th>\n",
       "      <td>67.499853</td>\n",
       "      <td>5.499853</td>\n",
       "      <td>5.499853</td>\n",
       "      <td>143.499853</td>\n",
       "      <td>299.499853</td>\n",
       "      <td>6.499853</td>\n",
       "      <td>6.499853</td>\n",
       "      <td>111.499853</td>\n",
       "      <td>5.499853</td>\n",
       "      <td>7.399853</td>\n",
       "      <td>6.499853</td>\n",
       "      <td>8.499853</td>\n",
       "      <td>7.499853</td>\n",
       "    </tr>\n",
       "  </tbody>\n",
       "</table>\n",
       "</div>"
      ],
      "text/plain": [
       "         age       sex        cp    trestbps        chol       fbs   restecg  \\\n",
       "0  57.499853  6.499853  5.499853  130.499853  217.499853  5.499853  6.499853   \n",
       "1  58.499853  6.499853  5.499853  145.499853  208.499853  6.499853  5.499853   \n",
       "2  75.499853  6.499853  5.499853  150.499853  179.499853  5.499853  6.499853   \n",
       "3  66.499853  6.499853  5.499853  153.499853  208.499853  5.499853  6.499853   \n",
       "4  67.499853  5.499853  5.499853  143.499853  299.499853  6.499853  6.499853   \n",
       "\n",
       "      thalach     exang   oldpeak     slope        ca      thal  \n",
       "0  173.499853  5.499853  6.499853  7.499853  7.499853  8.499853  \n",
       "1  160.499853  6.499853  8.599853  5.499853  5.499853  8.499853  \n",
       "2  130.499853  6.499853  8.099853  5.499853  5.499853  8.499853  \n",
       "3  166.499853  5.499853  5.499853  7.499853  6.499853  8.499853  \n",
       "4  111.499853  5.499853  7.399853  6.499853  8.499853  7.499853  "
      ]
     },
     "execution_count": 10,
     "metadata": {},
     "output_type": "execute_result"
    }
   ],
   "source": [
    "new_data.head()"
   ]
  },
  {
   "cell_type": "code",
   "execution_count": 11,
   "id": "57e8d9e9",
   "metadata": {},
   "outputs": [
    {
     "data": {
      "text/plain": [
       "array([[<AxesSubplot: title={'center': 'age'}>]], dtype=object)"
      ]
     },
     "execution_count": 11,
     "metadata": {},
     "output_type": "execute_result"
    },
    {
     "data": {
      "image/png": "[encoded data removed]",
      "text/plain": [
       "<Figure size 640x480 with 1 Axes>"
      ]
     },
     "metadata": {},
     "output_type": "display_data"
    }
   ],
   "source": [
    "new_data.hist(column=\"age\")"
   ]
  },
  {
   "cell_type": "markdown",
   "id": "f97f761d",
   "metadata": {},
   "source": [
    "# Creating training and testing data"
   ]
  },
  {
   "cell_type": "code",
   "execution_count": 12,
   "id": "bb143eda",
   "metadata": {},
   "outputs": [],
   "source": [
    "X = np.array(new_data)\n",
    "y = np.array(data['target'])"
   ]
  },
  {
   "cell_type": "code",
   "execution_count": 13,
   "id": "2a589bf1",
   "metadata": {},
   "outputs": [],
   "source": [
    "mean = X.mean(axis=0)\n",
    "X -= mean\n",
    "std = X.std(axis=0)\n",
    "X /= std"
   ]
  },
  {
   "cell_type": "code",
   "execution_count": 14,
   "id": "cf978f37",
   "metadata": {},
   "outputs": [],
   "source": [
    "# create X and Y datasets for training\n",
    "from sklearn import model_selection\n",
    "\n",
    "X_train, X_test, y_train, y_test = model_selection.train_test_split(X, y, stratify=y, random_state=42, test_size = 0.2)"
   ]
  },
  {
   "cell_type": "code",
   "execution_count": 15,
   "id": "62b88f09",
   "metadata": {},
   "outputs": [
    {
     "name": "stdout",
     "output_type": "stream",
     "text": [
      "[0 0 0 1 1 0 0 1 1 0 1 1 0 0 0 1 0 1 1 0 0 1 0 1 1 1 1 0 0 0 0 1 0 0 0 0 0\n",
      " 0 1 1 1 0 1 0 1 1 1 0 1 0 1 1 1 1 1 0 1 1 1 0 0 1 1 1 0 0 0 0 0 1 0 0 0 1\n",
      " 1 0 0 0 1 1 0 1 0 1 1 0 0 0 1 1 1 1 1 0 0 0 0 1 0 1 0 1 0 1 1 0 1 1 1 1 0\n",
      " 0 0 1 0 0 0 1 0 1 0 1 0 0 0 1 1 0 0 1 1 0 0 0 1 0 1 1 0 1 0 0 1 0 1 1 1 0\n",
      " 0 1 0 0 1 0 0 1 0 1 1 1 0 1 1 0 1 0 0 1 1 0 0 1 1 0 0 1 1 0 0 0 1 0 1 0 1\n",
      " 1 1 0 0 1 1 1 0 0 1 0 0 0 0 1 1 0 1 0 0 1 0 0 1 1 0 0 0 1 1 0 1 1 1 1 1 0\n",
      " 0 0 1 1 0 1 0 0 0 0 0 1 1 1 0 0 0 1 0 1 1 0 1 0 0 1 1 1 1 0 0 0 0 1 0 0 0\n",
      " 1 0 0 1 1 0 1 1 1 0 0 0 1 0 1 1 1 1 0 0 1 1 0 0 0 1 1 0 1 0 0 0 1 1 0 0 0\n",
      " 1 0 1 1 1 0 0 1 1 1 1 1 0 0 0 0 0 1 1 1 1 1 1 0 0 0 1 1 1 0 0 1 1 1 0 1 0\n",
      " 0 1 0 1 0 0 1 0 0 1 1 1 1 1 0 0 1 1 0 1 0 1 1 1 0 0 1 0 0 1 1 1 0 0 0 1 0\n",
      " 1 1 1 0 0 1 0 1 0 0 0 1 0 1 1 0 1 1 1 1 1 1 1 1 1 1 0 0 0 1 1 0 0 1 1 1 0\n",
      " 0 0 1 0 0 1 1 0 1 0 1 1 1 1 0 1 1 1 0 0 1 1 0 0 0 1 1 0 1 1 1 1 1 1 1 0 1\n",
      " 0 1 0 1 1 0 1 0 1 1 0 0 0 1 1 1 1 1 0 0 0 0 0 0 1 0 0 1 0 1 1 1 1 1 1 0 0\n",
      " 0 1 1 1 0 1 0 1 1 1 0 1 0 1 1 1 1 1 1 0 0 1 0 1 1 0 0 0 1 0 0 0 0 1 1 1 1\n",
      " 0 1 1 1 1 1 1 1 1 0 0 0 0 1 1 0 0 0 0 1 1 1 0 1 0 1 1 0 1 0 0 0 0 0 0 1 1\n",
      " 1 0 0 0 0 0 0 0 1 1 0 0 0 1 1 1 0 1 1 1 1 0 1 1 0 0 0 0 0 0 1 1 1 1 1 1 0\n",
      " 0 1 0 0 1 1 1 1 1 0 0 0 1 1 0 1 1 0 1 1 0 0 0 1 0 0 0 0 0 1 0 0 1 1 0 0 1\n",
      " 0 0 1 1 0 1 0 1 1 0 1 0 1 0 1 1 0 1 0 0 0 0 1 0 0 0 0 0 1 0 0 1 1 1 1 0 1\n",
      " 1 1 0 0 1 1 0 1 1 0 0 1 0 1 0 1 1 0 1 0 0 1 1 1 1 1 1 0 1 1 0 0 0 1 0 0 0\n",
      " 1 0 1 1 1 1 0 1 0 0 0 0 0 0 1 1 0 1 1 0 1 0 0 0 1 0 1 0 1 0 0 1 0 1 1 1 1\n",
      " 0 0 0 0 1 1 1 1 0 0 1 1 0 1 1 0 1 0 1 0 1 1 0 1 1 1 0 0 1 1 0 0 0 1 1 0 0\n",
      " 1 0 1 0 1 1 1 1 1 0 1 1 0 0 1 1 0 1 1 0 0 0 0 1 0 1 0 0 1 0 1 0 0 1 1 1 0\n",
      " 1 0 0 0 0 1]\n"
     ]
    }
   ],
   "source": [
    "Y_train_binary = y_train.copy()\n",
    "Y_test_binary = y_test.copy()\n",
    "print(Y_train_binary)"
   ]
  },
  {
   "cell_type": "markdown",
   "id": "6f4b36eb",
   "metadata": {},
   "source": [
    "# Create model"
   ]
  },
  {
   "cell_type": "code",
   "execution_count": 26,
   "id": "536dd068",
   "metadata": {},
   "outputs": [
    {
     "name": "stdout",
     "output_type": "stream",
     "text": [
      "Model: \"sequential_2\"\n",
      "_________________________________________________________________\n",
      " Layer (type)                Output Shape              Param #   \n",
      "=================================================================\n",
      " dense_6 (Dense)             (None, 16)                224       \n",
      "                                                                 \n",
      " dropout_4 (Dropout)         (None, 16)                0         \n",
      "                                                                 \n",
      " dense_7 (Dense)             (None, 8)                 136       \n",
      "                                                                 \n",
      " dropout_5 (Dropout)         (None, 8)                 0         \n",
      "                                                                 \n",
      " dense_8 (Dense)             (None, 1)                 9         \n",
      "                                                                 \n",
      "=================================================================\n",
      "Total params: 369\n",
      "Trainable params: 369\n",
      "Non-trainable params: 0\n",
      "_________________________________________________________________\n",
      "None\n"
     ]
    }
   ],
   "source": [
    "from keras.models import Sequential\n",
    "from keras.layers import Dense\n",
    "from keras.optimizers import Adam\n",
    "from keras.layers import Dropout\n",
    "from keras import regularizers\n",
    "# define a new keras model for binary classification\n",
    "def create_binary_model():\n",
    "    # create model\n",
    "    model = Sequential()\n",
    "    model.add(Dense(16, input_dim=13, kernel_initializer='normal',  kernel_regularizer=regularizers.l2(0.001),activation='relu'))\n",
    "    model.add(Dropout(0.25))\n",
    "    model.add(Dense(8, kernel_initializer='normal',  kernel_regularizer=regularizers.l2(0.001),activation='relu'))\n",
    "    model.add(Dropout(0.25))\n",
    "    model.add(Dense(1, activation='sigmoid'))\n",
    "    \n",
    "    # Compile model\n",
    "    adam = Adam(learning_rate=0.001)\n",
    "    model.compile(loss='binary_crossentropy', optimizer='rmsprop', metrics=['accuracy'])\n",
    "    return model\n",
    "\n",
    "binary_model = create_binary_model()\n",
    "\n",
    "print(binary_model.summary())"
   ]
  },
  {
   "cell_type": "code",
   "execution_count": 27,
   "id": "e174f967",
   "metadata": {},
   "outputs": [
    {
     "name": "stdout",
     "output_type": "stream",
     "text": [
      "Epoch 1/50\n",
      "82/82 [==============================] - 1s 5ms/step - loss: 0.6586 - accuracy: 0.6890 - val_loss: 0.5985 - val_accuracy: 0.7854\n",
      "Epoch 2/50\n",
      "82/82 [==============================] - 0s 3ms/step - loss: 0.5405 - accuracy: 0.8244 - val_loss: 0.4722 - val_accuracy: 0.8244\n",
      "Epoch 3/50\n",
      "82/82 [==============================] - 0s 3ms/step - loss: 0.4400 - accuracy: 0.8317 - val_loss: 0.3975 - val_accuracy: 0.8341\n",
      "Epoch 4/50\n",
      "82/82 [==============================] - 0s 3ms/step - loss: 0.3893 - accuracy: 0.8500 - val_loss: 0.3615 - val_accuracy: 0.8439\n",
      "Epoch 5/50\n",
      "82/82 [==============================] - 0s 3ms/step - loss: 0.3779 - accuracy: 0.8573 - val_loss: 0.3434 - val_accuracy: 0.8585\n",
      "Epoch 6/50\n",
      "82/82 [==============================] - 0s 3ms/step - loss: 0.3713 - accuracy: 0.8585 - val_loss: 0.3325 - val_accuracy: 0.8683\n",
      "Epoch 7/50\n",
      "82/82 [==============================] - 0s 2ms/step - loss: 0.3700 - accuracy: 0.8549 - val_loss: 0.3278 - val_accuracy: 0.8683\n",
      "Epoch 8/50\n",
      "82/82 [==============================] - 0s 2ms/step - loss: 0.3427 - accuracy: 0.8732 - val_loss: 0.3259 - val_accuracy: 0.8683\n",
      "Epoch 9/50\n",
      "82/82 [==============================] - 0s 3ms/step - loss: 0.3620 - accuracy: 0.8744 - val_loss: 0.3207 - val_accuracy: 0.8683\n",
      "Epoch 10/50\n",
      "82/82 [==============================] - 0s 3ms/step - loss: 0.3463 - accuracy: 0.8744 - val_loss: 0.3179 - val_accuracy: 0.8829\n",
      "Epoch 11/50\n",
      "82/82 [==============================] - 0s 2ms/step - loss: 0.3422 - accuracy: 0.8780 - val_loss: 0.3160 - val_accuracy: 0.8829\n",
      "Epoch 12/50\n",
      "82/82 [==============================] - 0s 2ms/step - loss: 0.3354 - accuracy: 0.8780 - val_loss: 0.3143 - val_accuracy: 0.8829\n",
      "Epoch 13/50\n",
      "82/82 [==============================] - 0s 3ms/step - loss: 0.3453 - accuracy: 0.8780 - val_loss: 0.3139 - val_accuracy: 0.8780\n",
      "Epoch 14/50\n",
      "82/82 [==============================] - 0s 2ms/step - loss: 0.3447 - accuracy: 0.8780 - val_loss: 0.3098 - val_accuracy: 0.8878\n",
      "Epoch 15/50\n",
      "82/82 [==============================] - 0s 2ms/step - loss: 0.3432 - accuracy: 0.8817 - val_loss: 0.3105 - val_accuracy: 0.8829\n",
      "Epoch 16/50\n",
      "82/82 [==============================] - 0s 3ms/step - loss: 0.3355 - accuracy: 0.8793 - val_loss: 0.3105 - val_accuracy: 0.8878\n",
      "Epoch 17/50\n",
      "82/82 [==============================] - 0s 3ms/step - loss: 0.3295 - accuracy: 0.8841 - val_loss: 0.3100 - val_accuracy: 0.8878\n",
      "Epoch 18/50\n",
      "82/82 [==============================] - 0s 2ms/step - loss: 0.3180 - accuracy: 0.8939 - val_loss: 0.3116 - val_accuracy: 0.8829\n",
      "Epoch 19/50\n",
      "82/82 [==============================] - 0s 2ms/step - loss: 0.3284 - accuracy: 0.8854 - val_loss: 0.3101 - val_accuracy: 0.8829\n",
      "Epoch 20/50\n",
      "82/82 [==============================] - 0s 2ms/step - loss: 0.3388 - accuracy: 0.8780 - val_loss: 0.3071 - val_accuracy: 0.8878\n",
      "Epoch 21/50\n",
      "82/82 [==============================] - 0s 2ms/step - loss: 0.3204 - accuracy: 0.8902 - val_loss: 0.3072 - val_accuracy: 0.8927\n",
      "Epoch 22/50\n",
      "82/82 [==============================] - 0s 2ms/step - loss: 0.3228 - accuracy: 0.8890 - val_loss: 0.3060 - val_accuracy: 0.8878\n",
      "Epoch 23/50\n",
      "82/82 [==============================] - 0s 3ms/step - loss: 0.3179 - accuracy: 0.8854 - val_loss: 0.3087 - val_accuracy: 0.8829\n",
      "Epoch 24/50\n",
      "82/82 [==============================] - 0s 3ms/step - loss: 0.3054 - accuracy: 0.8890 - val_loss: 0.3035 - val_accuracy: 0.9073\n",
      "Epoch 25/50\n",
      "82/82 [==============================] - 0s 3ms/step - loss: 0.3188 - accuracy: 0.8829 - val_loss: 0.2999 - val_accuracy: 0.9073\n",
      "Epoch 26/50\n",
      "82/82 [==============================] - 0s 3ms/step - loss: 0.3218 - accuracy: 0.8829 - val_loss: 0.3036 - val_accuracy: 0.9024\n",
      "Epoch 27/50\n",
      "82/82 [==============================] - 0s 3ms/step - loss: 0.3249 - accuracy: 0.8780 - val_loss: 0.2973 - val_accuracy: 0.9073\n",
      "Epoch 28/50\n",
      "82/82 [==============================] - 0s 2ms/step - loss: 0.3325 - accuracy: 0.8768 - val_loss: 0.3036 - val_accuracy: 0.8927\n",
      "Epoch 29/50\n",
      "82/82 [==============================] - 0s 3ms/step - loss: 0.3083 - accuracy: 0.8939 - val_loss: 0.3001 - val_accuracy: 0.8976\n",
      "Epoch 30/50\n",
      "82/82 [==============================] - 0s 2ms/step - loss: 0.3109 - accuracy: 0.8841 - val_loss: 0.2970 - val_accuracy: 0.8976\n",
      "Epoch 31/50\n",
      "82/82 [==============================] - 0s 2ms/step - loss: 0.3148 - accuracy: 0.8854 - val_loss: 0.2973 - val_accuracy: 0.9073\n",
      "Epoch 32/50\n",
      "82/82 [==============================] - 0s 2ms/step - loss: 0.3162 - accuracy: 0.8780 - val_loss: 0.2964 - val_accuracy: 0.9073\n",
      "Epoch 33/50\n",
      "82/82 [==============================] - 0s 3ms/step - loss: 0.3200 - accuracy: 0.8878 - val_loss: 0.2965 - val_accuracy: 0.9073\n",
      "Epoch 34/50\n",
      "82/82 [==============================] - 0s 2ms/step - loss: 0.3056 - accuracy: 0.8939 - val_loss: 0.2962 - val_accuracy: 0.9073\n",
      "Epoch 35/50\n",
      "82/82 [==============================] - 0s 2ms/step - loss: 0.3091 - accuracy: 0.8963 - val_loss: 0.2952 - val_accuracy: 0.9024\n",
      "Epoch 36/50\n",
      "82/82 [==============================] - 0s 3ms/step - loss: 0.2896 - accuracy: 0.8963 - val_loss: 0.2910 - val_accuracy: 0.9122\n",
      "Epoch 37/50\n",
      "82/82 [==============================] - 0s 2ms/step - loss: 0.2939 - accuracy: 0.9061 - val_loss: 0.2891 - val_accuracy: 0.9073\n",
      "Epoch 38/50\n",
      "82/82 [==============================] - 0s 3ms/step - loss: 0.3042 - accuracy: 0.8902 - val_loss: 0.2856 - val_accuracy: 0.9122\n",
      "Epoch 39/50\n",
      "82/82 [==============================] - 0s 2ms/step - loss: 0.2945 - accuracy: 0.8976 - val_loss: 0.2870 - val_accuracy: 0.9073\n",
      "Epoch 40/50\n",
      "82/82 [==============================] - 0s 3ms/step - loss: 0.3037 - accuracy: 0.8988 - val_loss: 0.2842 - val_accuracy: 0.9220\n",
      "Epoch 41/50\n",
      "82/82 [==============================] - 0s 2ms/step - loss: 0.2760 - accuracy: 0.9134 - val_loss: 0.2821 - val_accuracy: 0.9220\n",
      "Epoch 42/50\n",
      "82/82 [==============================] - 0s 3ms/step - loss: 0.2944 - accuracy: 0.9012 - val_loss: 0.2856 - val_accuracy: 0.9220\n",
      "Epoch 43/50\n",
      "82/82 [==============================] - 0s 2ms/step - loss: 0.3039 - accuracy: 0.8939 - val_loss: 0.2854 - val_accuracy: 0.9268\n",
      "Epoch 44/50\n",
      "82/82 [==============================] - 0s 3ms/step - loss: 0.2733 - accuracy: 0.9098 - val_loss: 0.2870 - val_accuracy: 0.9171\n",
      "Epoch 45/50\n",
      "82/82 [==============================] - 0s 3ms/step - loss: 0.2875 - accuracy: 0.9061 - val_loss: 0.2829 - val_accuracy: 0.9171\n",
      "Epoch 46/50\n",
      "82/82 [==============================] - 0s 2ms/step - loss: 0.3045 - accuracy: 0.8976 - val_loss: 0.2839 - val_accuracy: 0.9220\n",
      "Epoch 47/50\n",
      "82/82 [==============================] - 0s 2ms/step - loss: 0.2971 - accuracy: 0.8951 - val_loss: 0.2853 - val_accuracy: 0.9220\n",
      "Epoch 48/50\n",
      "82/82 [==============================] - 0s 3ms/step - loss: 0.2969 - accuracy: 0.9073 - val_loss: 0.2831 - val_accuracy: 0.9122\n",
      "Epoch 49/50\n",
      "82/82 [==============================] - 0s 2ms/step - loss: 0.2895 - accuracy: 0.9073 - val_loss: 0.2851 - val_accuracy: 0.9268\n",
      "Epoch 50/50\n",
      "82/82 [==============================] - 0s 2ms/step - loss: 0.2741 - accuracy: 0.9073 - val_loss: 0.2857 - val_accuracy: 0.9268\n"
     ]
    }
   ],
   "source": [
    "# fit the binary model on the training data\n",
    "history=binary_model.fit(X_train, Y_train_binary, validation_data=(X_test, Y_test_binary), epochs=50, batch_size=10)"
   ]
  },
  {
   "cell_type": "markdown",
   "id": "dedaa210",
   "metadata": {},
   "source": [
    "# Testing accuracy"
   ]
  },
  {
   "cell_type": "code",
   "execution_count": 28,
   "id": "6b54d307",
   "metadata": {},
   "outputs": [
    {
     "data": {
      "image/png": "[encoded data removed]",
      "text/plain": [
       "<Figure size 640x480 with 1 Axes>"
      ]
     },
     "metadata": {},
     "output_type": "display_data"
    }
   ],
   "source": [
    "import matplotlib.pyplot as plt\n",
    "%matplotlib inline\n",
    "# Model accuracy\n",
    "plt.plot(history.history['accuracy'])\n",
    "plt.plot(history.history['val_accuracy'])\n",
    "plt.title('Model Accuracy')\n",
    "plt.ylabel('accuracy')\n",
    "plt.xlabel('epoch')\n",
    "plt.legend(['train', 'test'])\n",
    "plt.show()"
   ]
  },
  {
   "cell_type": "code",
   "execution_count": 29,
   "id": "ab415ff8",
   "metadata": {},
   "outputs": [
    {
     "data": {
      "image/png": "[encoded data removed]",
      "text/plain": [
       "<Figure size 640x480 with 1 Axes>"
      ]
     },
     "metadata": {},
     "output_type": "display_data"
    }
   ],
   "source": [
    "# Model Losss\n",
    "plt.plot(history.history['loss'])\n",
    "plt.plot(history.history['val_loss'])\n",
    "plt.title('Model Loss')\n",
    "plt.ylabel('loss')\n",
    "plt.xlabel('epoch')\n",
    "plt.legend(['train', 'test'])\n",
    "plt.show()"
   ]
  },
  {
   "cell_type": "code",
   "execution_count": 30,
   "id": "96395dfb",
   "metadata": {},
   "outputs": [
    {
     "name": "stdout",
     "output_type": "stream",
     "text": [
      "7/7 [==============================] - 0s 1ms/step\n",
      "Results for Binary Model\n",
      "0.926829268292683\n",
      "              precision    recall  f1-score   support\n",
      "\n",
      "           0       0.93      0.92      0.92       100\n",
      "           1       0.92      0.93      0.93       105\n",
      "\n",
      "    accuracy                           0.93       205\n",
      "   macro avg       0.93      0.93      0.93       205\n",
      "weighted avg       0.93      0.93      0.93       205\n",
      "\n"
     ]
    }
   ],
   "source": [
    "# generate classification report using predictions for binary model\n",
    "from sklearn.metrics import classification_report, accuracy_score\n",
    "# generate classification report using predictions for binary model \n",
    "binary_pred = np.round(binary_model.predict(X_test)).astype(int)\n",
    "\n",
    "print('Results for Binary Model')\n",
    "print(accuracy_score(Y_test_binary, binary_pred))\n",
    "print(classification_report(Y_test_binary, binary_pred))"
   ]
  },
  {
   "cell_type": "code",
   "execution_count": null,
   "id": "2540b34a",
   "metadata": {},
   "outputs": [],
   "source": []
  }
 ],
 "metadata": {
  "kernelspec": {
   "display_name": "Python 3 (ipykernel)",
   "language": "python",
   "name": "python3"
  },
  "language_info": {
   "codemirror_mode": {
    "name": "ipython",
    "version": 3
   },
   "file_extension": ".py",
   "mimetype": "text/x-python",
   "name": "python",
   "nbconvert_exporter": "python",
   "pygments_lexer": "ipython3",
   "version": "3.9.12"
  }
 },
 "nbformat": 4,
 "nbformat_minor": 5
}
